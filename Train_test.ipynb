{
 "cells": [
  {
   "cell_type": "code",
   "execution_count": 1,
   "metadata": {},
   "outputs": [],
   "source": [
    "import numpy as np # linear algebra\n",
    "import pandas as pd # data processing, CSV file I/O (e.g. pd.read_csv)\n",
    "import tensorflow as tf\n",
    "# import matplotlib.pyplot as plt # Visualizations\n",
    "#import seaborn as sb"
   ]
  },
  {
   "cell_type": "code",
   "execution_count": 2,
   "metadata": {},
   "outputs": [
    {
     "name": "stdout",
     "output_type": "stream",
     "text": [
      "Downloading data from https://storage.googleapis.com/tensorflow/tf-keras-datasets/mnist.npz\n",
      "11493376/11490434 [==============================] - 4s 0us/step\n"
     ]
    }
   ],
   "source": [
    "#Load Dataset\n",
    "(x_train, y_train), (x_test, y_test) = tf.keras.datasets.mnist.load_data()\n"
   ]
  },
  {
   "cell_type": "markdown",
   "metadata": {},
   "source": [
    "To be able to use the dataset in Keras API, we need 4-dims numpy arrays. "
   ]
  },
  {
   "cell_type": "code",
   "execution_count": 3,
   "metadata": {},
   "outputs": [],
   "source": [
    "x_train = x_train.reshape(x_train.shape[0], 28, 28,1)\n",
    "x_test = x_test.reshape(x_test.shape[0], 28, 28,1)"
   ]
  },
  {
   "cell_type": "code",
   "execution_count": 4,
   "metadata": {},
   "outputs": [],
   "source": [
    "# Making sure that the values are float so that we can get decimal points after division\n",
    "x_train = x_train.astype('float32')\n",
    "x_test = x_test.astype('float32')"
   ]
  },
  {
   "cell_type": "code",
   "execution_count": 5,
   "metadata": {},
   "outputs": [],
   "source": [
    "x_train = x_train/255.0 # Normalize\n",
    "x_test = x_test/255.0"
   ]
  },
  {
   "cell_type": "code",
   "execution_count": 6,
   "metadata": {},
   "outputs": [
    {
     "name": "stdout",
     "output_type": "stream",
     "text": [
      "x_train shape: (60000, 28, 28, 1)\n",
      "Number of images in x_train 60000\n",
      "Number of images in x_test 10000\n"
     ]
    }
   ],
   "source": [
    "print('x_train shape:', x_train.shape)\n",
    "print('Number of images in x_train', x_train.shape[0])\n",
    "print('Number of images in x_test', x_test.shape[0])"
   ]
  },
  {
   "cell_type": "markdown",
   "metadata": {},
   "source": [
    "# Convolutional Neural Network\n",
    "* Using Keras with tensorflow backend\n",
    "* Final Dense layer must have 10 neurons since we have 10 number classes (0, 1, 2, …, 9).\n",
    "* Experiment with kernel size, pool size, activation functions, dropout rate, and number of neurons in the first Dense layer to get a better result."
   ]
  },
  {
   "cell_type": "code",
   "execution_count": 7,
   "metadata": {},
   "outputs": [
    {
     "name": "stderr",
     "output_type": "stream",
     "text": [
      "Using TensorFlow backend.\n"
     ]
    }
   ],
   "source": [
    "from keras.models import Sequential\n",
    "from keras.layers import Dense, Conv2D, Dropout, Flatten, MaxPool2D\n",
    "\n",
    "input_shape = (28, 28, 1)\n",
    "\n",
    "model = Sequential()\n",
    "model.add( Conv2D(28, kernel_size=(3,3), input_shape=input_shape) )\n",
    "model.add( MaxPool2D( pool_size=(2,2) ) )\n",
    "model.add( Flatten() )\n",
    "model.add( Dense(128, activation='relu') )\n",
    "model.add( Dropout(0.2) )\n",
    "model.add( Dense(10, activation='softmax') )"
   ]
  },
  {
   "cell_type": "markdown",
   "metadata": {},
   "source": [
    "# Compiling and Fitting the Model\n",
    "\n",
    "* A non-optimized empty CNN is created.\n",
    "* Now Set an optimizer with a given loss function which uses a metric. ( model.Compile() )\n",
    "* Fit the model by using training data. ( model.fit() )"
   ]
  },
  {
   "cell_type": "code",
   "execution_count": 8,
   "metadata": {},
   "outputs": [
    {
     "name": "stdout",
     "output_type": "stream",
     "text": [
      "Epoch 1/10\n",
      "60000/60000 [==============================] - 47s 775us/step - loss: 0.2112 - acc: 0.9370\n",
      "Epoch 2/10\n",
      "60000/60000 [==============================] - 44s 736us/step - loss: 0.0840 - acc: 0.9746\n",
      "Epoch 3/10\n",
      "60000/60000 [==============================] - 43s 717us/step - loss: 0.0592 - acc: 0.9817\n",
      "Epoch 4/10\n",
      "60000/60000 [==============================] - 43s 711us/step - loss: 0.0470 - acc: 0.9845\n",
      "Epoch 5/10\n",
      "60000/60000 [==============================] - 43s 715us/step - loss: 0.0366 - acc: 0.9881\n",
      "Epoch 6/10\n",
      "60000/60000 [==============================] - 43s 715us/step - loss: 0.0301 - acc: 0.9901\n",
      "Epoch 7/10\n",
      "60000/60000 [==============================] - 43s 718us/step - loss: 0.0253 - acc: 0.9915\n",
      "Epoch 8/10\n",
      "60000/60000 [==============================] - 43s 721us/step - loss: 0.0215 - acc: 0.9932\n",
      "Epoch 9/10\n",
      "60000/60000 [==============================] - 43s 715us/step - loss: 0.0227 - acc: 0.9923\n",
      "Epoch 10/10\n",
      "60000/60000 [==============================] - 48s 795us/step - loss: 0.0193 - acc: 0.9934\n"
     ]
    },
    {
     "data": {
      "text/plain": [
       "<keras.callbacks.History at 0x7f4a97e8d278>"
      ]
     },
     "execution_count": 8,
     "metadata": {},
     "output_type": "execute_result"
    }
   ],
   "source": [
    "model.compile( \n",
    "    optimizer = 'adam',\n",
    "    loss = 'sparse_categorical_crossentropy',\n",
    "    metrics = ['accuracy']\n",
    ")\n",
    "model.fit(\n",
    "    x = x_train,\n",
    "    y = y_train,\n",
    "    epochs=10\n",
    ")"
   ]
  },
  {
   "cell_type": "code",
   "execution_count": 9,
   "metadata": {},
   "outputs": [
    {
     "name": "stdout",
     "output_type": "stream",
     "text": [
      "10000/10000 [==============================] - 3s 281us/step\n"
     ]
    },
    {
     "data": {
      "text/plain": [
       "[0.06860043836263795, 0.9833]"
      ]
     },
     "execution_count": 9,
     "metadata": {},
     "output_type": "execute_result"
    }
   ],
   "source": [
    "model.evaluate(x_test, y_test)"
   ]
  },
  {
   "cell_type": "code",
   "execution_count": 10,
   "metadata": {},
   "outputs": [],
   "source": [
    "model_json = model.to_json()\n",
    "with open(\"model.json\", \"w\") as jsonFile:\n",
    "    jsonFile.write(model_json)"
   ]
  },
  {
   "cell_type": "code",
   "execution_count": 11,
   "metadata": {},
   "outputs": [],
   "source": [
    "model.save_weights(\"Model_mnist.h5\")"
   ]
  }
 ],
 "metadata": {
  "kernelspec": {
   "display_name": "Python 3",
   "language": "python",
   "name": "python3"
  },
  "language_info": {
   "codemirror_mode": {
    "name": "ipython",
    "version": 3
   },
   "file_extension": ".py",
   "mimetype": "text/x-python",
   "name": "python",
   "nbconvert_exporter": "python",
   "pygments_lexer": "ipython3",
   "version": "3.7.4"
  }
 },
 "nbformat": 4,
 "nbformat_minor": 4
}
