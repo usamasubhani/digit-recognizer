{
 "cells": [
  {
   "cell_type": "code",
   "execution_count": 40,
   "metadata": {},
   "outputs": [],
   "source": [
    "from tensorflow.keras.models import load_model, model_from_json"
   ]
  },
  {
   "cell_type": "code",
   "execution_count": 10,
   "metadata": {},
   "outputs": [],
   "source": [
    "import numpy as np"
   ]
  },
  {
   "cell_type": "code",
   "execution_count": 41,
   "metadata": {},
   "outputs": [],
   "source": [
    "json_file = open('model.json', 'r')\n",
    "model_json = json_file.read()\n",
    "json_file.close()\n",
    "model = model_from_json(model_json)"
   ]
  },
  {
   "cell_type": "code",
   "execution_count": 42,
   "metadata": {},
   "outputs": [],
   "source": [
    "model.load_weights('Model_mnist.h5')"
   ]
  },
  {
   "cell_type": "code",
   "execution_count": 43,
   "metadata": {},
   "outputs": [],
   "source": [
    "model.compile(loss='sparse_categorical_crossentropy')"
   ]
  },
  {
   "cell_type": "code",
   "execution_count": 315,
   "metadata": {},
   "outputs": [],
   "source": [
    "import matplotlib.image\n",
    "img = matplotlib.image.imread('mnist_input_0.png')"
   ]
  },
  {
   "cell_type": "code",
   "execution_count": 189,
   "metadata": {},
   "outputs": [],
   "source": [
    "from PIL import Image\n",
    "im = Image.open(\"image.png\")\n",
    "im.show()"
   ]
  },
  {
   "cell_type": "code",
   "execution_count": 342,
   "metadata": {},
   "outputs": [],
   "source": [
    "img = cv2.imread(\"image.png\")[:,:,0]\n",
    "img = np.invert(np.array([img]))"
   ]
  },
  {
   "cell_type": "code",
   "execution_count": 344,
   "metadata": {},
   "outputs": [
    {
     "data": {
      "text/plain": [
       "(1, 280, 280)"
      ]
     },
     "execution_count": 344,
     "metadata": {},
     "output_type": "execute_result"
    }
   ],
   "source": [
    "img.shape"
   ]
  },
  {
   "cell_type": "code",
   "execution_count": 343,
   "metadata": {},
   "outputs": [
    {
     "ename": "TypeError",
     "evalue": "Invalid dimensions for image data",
     "output_type": "error",
     "traceback": [
      "\u001b[0;31m---------------------------------------------------------------------------\u001b[0m",
      "\u001b[0;31mTypeError\u001b[0m                                 Traceback (most recent call last)",
      "\u001b[0;32m<ipython-input-343-e367e146f37c>\u001b[0m in \u001b[0;36m<module>\u001b[0;34m\u001b[0m\n\u001b[1;32m      1\u001b[0m \u001b[0;32mimport\u001b[0m \u001b[0mmatplotlib\u001b[0m\u001b[0;34m.\u001b[0m\u001b[0mpyplot\u001b[0m \u001b[0;32mas\u001b[0m \u001b[0mplt\u001b[0m\u001b[0;34m\u001b[0m\u001b[0;34m\u001b[0m\u001b[0m\n\u001b[0;32m----> 2\u001b[0;31m \u001b[0mplt\u001b[0m\u001b[0;34m.\u001b[0m\u001b[0mimshow\u001b[0m\u001b[0;34m(\u001b[0m\u001b[0mimg\u001b[0m\u001b[0;34m)\u001b[0m\u001b[0;34m\u001b[0m\u001b[0;34m\u001b[0m\u001b[0m\n\u001b[0m\u001b[1;32m      3\u001b[0m \u001b[0mplt\u001b[0m\u001b[0;34m.\u001b[0m\u001b[0mshow\u001b[0m\u001b[0;34m(\u001b[0m\u001b[0;34m)\u001b[0m\u001b[0;34m\u001b[0m\u001b[0;34m\u001b[0m\u001b[0m\n",
      "\u001b[0;32m~/.local/lib/python3.7/site-packages/matplotlib/pyplot.py\u001b[0m in \u001b[0;36mimshow\u001b[0;34m(X, cmap, norm, aspect, interpolation, alpha, vmin, vmax, origin, extent, shape, filternorm, filterrad, imlim, resample, url, data, **kwargs)\u001b[0m\n\u001b[1;32m   2699\u001b[0m         \u001b[0mfilternorm\u001b[0m\u001b[0;34m=\u001b[0m\u001b[0mfilternorm\u001b[0m\u001b[0;34m,\u001b[0m \u001b[0mfilterrad\u001b[0m\u001b[0;34m=\u001b[0m\u001b[0mfilterrad\u001b[0m\u001b[0;34m,\u001b[0m \u001b[0mimlim\u001b[0m\u001b[0;34m=\u001b[0m\u001b[0mimlim\u001b[0m\u001b[0;34m,\u001b[0m\u001b[0;34m\u001b[0m\u001b[0;34m\u001b[0m\u001b[0m\n\u001b[1;32m   2700\u001b[0m         resample=resample, url=url, **({\"data\": data} if data is not\n\u001b[0;32m-> 2701\u001b[0;31m         None else {}), **kwargs)\n\u001b[0m\u001b[1;32m   2702\u001b[0m     \u001b[0msci\u001b[0m\u001b[0;34m(\u001b[0m\u001b[0m__ret\u001b[0m\u001b[0;34m)\u001b[0m\u001b[0;34m\u001b[0m\u001b[0;34m\u001b[0m\u001b[0m\n\u001b[1;32m   2703\u001b[0m     \u001b[0;32mreturn\u001b[0m \u001b[0m__ret\u001b[0m\u001b[0;34m\u001b[0m\u001b[0;34m\u001b[0m\u001b[0m\n",
      "\u001b[0;32m~/.local/lib/python3.7/site-packages/matplotlib/__init__.py\u001b[0m in \u001b[0;36minner\u001b[0;34m(ax, data, *args, **kwargs)\u001b[0m\n\u001b[1;32m   1808\u001b[0m                         \u001b[0;34m\"the Matplotlib list!)\"\u001b[0m \u001b[0;34m%\u001b[0m \u001b[0;34m(\u001b[0m\u001b[0mlabel_namer\u001b[0m\u001b[0;34m,\u001b[0m \u001b[0mfunc\u001b[0m\u001b[0;34m.\u001b[0m\u001b[0m__name__\u001b[0m\u001b[0;34m)\u001b[0m\u001b[0;34m,\u001b[0m\u001b[0;34m\u001b[0m\u001b[0;34m\u001b[0m\u001b[0m\n\u001b[1;32m   1809\u001b[0m                         RuntimeWarning, stacklevel=2)\n\u001b[0;32m-> 1810\u001b[0;31m             \u001b[0;32mreturn\u001b[0m \u001b[0mfunc\u001b[0m\u001b[0;34m(\u001b[0m\u001b[0max\u001b[0m\u001b[0;34m,\u001b[0m \u001b[0;34m*\u001b[0m\u001b[0margs\u001b[0m\u001b[0;34m,\u001b[0m \u001b[0;34m**\u001b[0m\u001b[0mkwargs\u001b[0m\u001b[0;34m)\u001b[0m\u001b[0;34m\u001b[0m\u001b[0;34m\u001b[0m\u001b[0m\n\u001b[0m\u001b[1;32m   1811\u001b[0m \u001b[0;34m\u001b[0m\u001b[0m\n\u001b[1;32m   1812\u001b[0m         inner.__doc__ = _add_data_doc(inner.__doc__,\n",
      "\u001b[0;32m~/.local/lib/python3.7/site-packages/matplotlib/axes/_axes.py\u001b[0m in \u001b[0;36mimshow\u001b[0;34m(self, X, cmap, norm, aspect, interpolation, alpha, vmin, vmax, origin, extent, shape, filternorm, filterrad, imlim, resample, url, **kwargs)\u001b[0m\n\u001b[1;32m   5492\u001b[0m                               resample=resample, **kwargs)\n\u001b[1;32m   5493\u001b[0m \u001b[0;34m\u001b[0m\u001b[0m\n\u001b[0;32m-> 5494\u001b[0;31m         \u001b[0mim\u001b[0m\u001b[0;34m.\u001b[0m\u001b[0mset_data\u001b[0m\u001b[0;34m(\u001b[0m\u001b[0mX\u001b[0m\u001b[0;34m)\u001b[0m\u001b[0;34m\u001b[0m\u001b[0;34m\u001b[0m\u001b[0m\n\u001b[0m\u001b[1;32m   5495\u001b[0m         \u001b[0mim\u001b[0m\u001b[0;34m.\u001b[0m\u001b[0mset_alpha\u001b[0m\u001b[0;34m(\u001b[0m\u001b[0malpha\u001b[0m\u001b[0;34m)\u001b[0m\u001b[0;34m\u001b[0m\u001b[0;34m\u001b[0m\u001b[0m\n\u001b[1;32m   5496\u001b[0m         \u001b[0;32mif\u001b[0m \u001b[0mim\u001b[0m\u001b[0;34m.\u001b[0m\u001b[0mget_clip_path\u001b[0m\u001b[0;34m(\u001b[0m\u001b[0;34m)\u001b[0m \u001b[0;32mis\u001b[0m \u001b[0;32mNone\u001b[0m\u001b[0;34m:\u001b[0m\u001b[0;34m\u001b[0m\u001b[0;34m\u001b[0m\u001b[0m\n",
      "\u001b[0;32m~/.local/lib/python3.7/site-packages/matplotlib/image.py\u001b[0m in \u001b[0;36mset_data\u001b[0;34m(self, A)\u001b[0m\n\u001b[1;32m    644\u001b[0m         if not (self._A.ndim == 2\n\u001b[1;32m    645\u001b[0m                 or self._A.ndim == 3 and self._A.shape[-1] in [3, 4]):\n\u001b[0;32m--> 646\u001b[0;31m             \u001b[0;32mraise\u001b[0m \u001b[0mTypeError\u001b[0m\u001b[0;34m(\u001b[0m\u001b[0;34m\"Invalid dimensions for image data\"\u001b[0m\u001b[0;34m)\u001b[0m\u001b[0;34m\u001b[0m\u001b[0;34m\u001b[0m\u001b[0m\n\u001b[0m\u001b[1;32m    647\u001b[0m \u001b[0;34m\u001b[0m\u001b[0m\n\u001b[1;32m    648\u001b[0m         \u001b[0;32mif\u001b[0m \u001b[0mself\u001b[0m\u001b[0;34m.\u001b[0m\u001b[0m_A\u001b[0m\u001b[0;34m.\u001b[0m\u001b[0mndim\u001b[0m \u001b[0;34m==\u001b[0m \u001b[0;36m3\u001b[0m\u001b[0;34m:\u001b[0m\u001b[0;34m\u001b[0m\u001b[0;34m\u001b[0m\u001b[0m\n",
      "\u001b[0;31mTypeError\u001b[0m: Invalid dimensions for image data"
     ]
    },
    {
     "data": {
      "image/png": "[encoded data removed]",
      "text/plain": [
       "<Figure size 432x288 with 1 Axes>"
      ]
     },
     "metadata": {
      "needs_background": "light"
     },
     "output_type": "display_data"
    }
   ],
   "source": [
    "import matplotlib.pyplot as plt\n",
    "plt.imshow(img)\n",
    "plt.show()"
   ]
  },
  {
   "cell_type": "code",
   "execution_count": 327,
   "metadata": {},
   "outputs": [
    {
     "data": {
      "text/plain": [
       "(1300, 1300)"
      ]
     },
     "execution_count": 327,
     "metadata": {},
     "output_type": "execute_result"
    }
   ],
   "source": [
    "img.shape"
   ]
  },
  {
   "cell_type": "code",
   "execution_count": 330,
   "metadata": {},
   "outputs": [
    {
     "data": {
      "text/plain": [
       "0"
      ]
     },
     "execution_count": 330,
     "metadata": {},
     "output_type": "execute_result"
    }
   ],
   "source": [
    "np.count_nonzero(img == 0)"
   ]
  },
  {
   "cell_type": "code",
   "execution_count": 325,
   "metadata": {},
   "outputs": [
    {
     "data": {
      "text/plain": [
       "array([[-2, -2, -2, ..., -2, -2, -2],\n",
       "       [-2, -2, -2, ..., -2, -2, -2],\n",
       "       [-2, -2, -2, ..., -2, -2, -2],\n",
       "       ...,\n",
       "       [-2, -2, -2, ..., -2, -2, -2],\n",
       "       [-2, -2, -2, ..., -2, -2, -2],\n",
       "       [-2, -2, -2, ..., -2, -2, -2]])"
      ]
     },
     "execution_count": 325,
     "metadata": {},
     "output_type": "execute_result"
    }
   ],
   "source": [
    "img"
   ]
  },
  {
   "cell_type": "code",
   "execution_count": 321,
   "metadata": {},
   "outputs": [],
   "source": [
    "img = np.asarray(img)"
   ]
  },
  {
   "cell_type": "code",
   "execution_count": 324,
   "metadata": {},
   "outputs": [],
   "source": [
    "img = np.invert(img)"
   ]
  },
  {
   "cell_type": "code",
   "execution_count": 323,
   "metadata": {},
   "outputs": [],
   "source": [
    "img = np.array(img, np.int)"
   ]
  },
  {
   "cell_type": "code",
   "execution_count": 331,
   "metadata": {},
   "outputs": [
    {
     "data": {
      "text/plain": [
       "(1, 28, 28, 1)"
      ]
     },
     "execution_count": 331,
     "metadata": {},
     "output_type": "execute_result"
    }
   ],
   "source": [
    "# from skimage.transform import resize\n",
    "res = resize(img, (1, 28, 28, 1))\n",
    "res.shape"
   ]
  },
  {
   "cell_type": "code",
   "execution_count": 267,
   "metadata": {},
   "outputs": [],
   "source": [
    "import re\n",
    "dataurl = \"data:image/png;base64,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\"\n",
    "imgstr = re.search(r'base64,(.*)', dataurl).group(1)\n",
    "with open('output2.png','wb') as output:\n",
    "    output.write(base64.b64decode(imgstr))"
   ]
  },
  {
   "cell_type": "code",
   "execution_count": 239,
   "metadata": {},
   "outputs": [],
   "source": [
    "import base64\n",
    "dataurl = \"data:image/png;base64,iVBORw0KGgoAAAANSUhEUgAAARgAAAEYCAYAAACHjumMAAARDElEQVR4nO3dQU8bRx/HcRc7wkCEHdlSW6mVaUDiaRvJTiqgElEgh4gcKhkJpLYnW2lvJqI3c7MlXoB5B+t34LyD5R3sS/BL2Jfwfw6tEXUNmVl7PDuz348012TWO/NjZndmNicAYEjOdgUA+IuAAWAMAQPAGAIGgDEEDABjCBgAxhAwAIwhYAAYQ8AAMIaAAWAMAQPAGAIGgDEEDABjCBgAxhAwAIwhYAAYQ8AAMIaAAWAMAQPAGAIGgDEEDABjCBgAxhAwAIwhYAAYQ8AAMIaAAWAMAQPAGAIGgDEEDABjCBgAxhAwAIwhYAAYQ8AAMIaAAWAMAQPAGAIGgDEEDABjCBgAxhAwAIwhYAAYQ8AAMIaAAWAMAQPAGAIGgDEEDABjCBgAxhAwAIwhYAAYQ8AAMIaAAWAMAQPAGAIGgDEEDABjCBgAxhAwAIwhYAAYQ8A4oNvtytramuRyubuSz+el0+nYrhrwKAImxYIgkHK5/K9gmS61Ws12NYEHETApMx6P5eLiQorF4qPBcr8wkkFaETApMB6P5ebmRhqNhnKoTE+XgDQiYCyJokja7fZnp0CqBUgjWuaSxHEsw+FwoaFCwCDtaJmGDQYDqVarCw8UpkhwAQFjSBzH8r///c9osPCQF2lHwBgwGo1kY2NjKeHy7NkzK9cYRZEMh0M5Pz83MuVbRCmXy9Jut+X29tbKbwQCZqHiOJbT01PrHYsyuxwfH0u/3ydwloiAWZCPHz9KoVCw3okoiylPnz6VRqMh/X5fbm5u5Pb2Vsbjse1m5hwCZk6DwUCePHlivUNQlls2NjaYfikgYOZwcHBgvaFT0lGq1SqBMwMBk9De3p71Rk1Jb6lWq3JxcZH5aRUBk0DSJf3TpVQqSavVkiAIJI5jqdVq1jsGZfGlXC7L1dWV7WZrBQGjad6RSz6fl19//VWiKJr573c6Hfniiy+sdwrK4ku5XJbhcLjkFmsXAaNh3pFLs9mUOI6V/q/BYCCVSsV6p6AsvhSLxcxMnwgYRScnJ4kb1MbGhoxGo8T/dxRFsru7a71jUBZffJ8+ETAKWq1W4ga0u7urPGr5nMFgsLQVwiqlVCrJ2dmZBEHw4JTPljAMpdfrydHRkfXfSaUUCgUvg4aA+Yy3b98majD5fF4Gg4Ht6uMfYRhKq9WSUqlkPUweK749pyFgHvHmzZtEjeTFixe2q445jMdjCcNQBoOB9Ho9qdfrWicMLqIUi0UvRjQEzAO63W6ihtFoNGxXHYZNRkPLeAhfKBScHgkTMDNEUZSoMezt7dmuOixYxvTr559/tn2ZiRAwU+I4TnT8ACMXiPw9vep0OrK6urrwkNnf37d9edoImHsGg4GsrKxo3/iTkxPbVUcKBUGw8FHNy5cvbV+WFgLmH0lfZ7ZaLdtVR8p1u92FBs379+9tX5IyAkb+HrkkudGMXKBjMn3K5/Nzh0y73bZ9OUoIGJFEi9e+//5729WGw7rd7tzPaVwYyWQ+YJK8Mdre3rZdbXhi3uc0Ozs7ti/hUZkPGN1tAKVSaWFL/4GJbrebeOr0008/2a7+gzIdMEleSadtzw388uLFi0Qhc319bbvqM2U6YIIg0LqJv//+u+0qIwOSHAuSz+dTObLOdMDU63XlG7i1tWW7usiQJMeDvHr1yna1/yOzAaPzcDftD9LgpyTHhKRtqpTZgNG5eTx3gS26I5n19fVUTZUyGTBxHCtvv6/X67ari4zb2dnRCpler2e7yncyGTA6RzEEQWC7uoB8/fXXWiGTlvN+Mxkwqit3WfOCtIjjWGudTFpeSmQuYMIwVL5JbGREmlxfX2uNYtJwUFXmAqbZbPJwF87S+bpEtVq1Xd1sBcx4PFa+OZubm7arC/yHThtOw7OYTAWMzqvpbrdru7rATL1eT7kddzodq3XNTMDo7DsqlUq2qws8KI5j5aMeVlZWrNY1MwGjk/ppWkcAzPLhwwfl9vz8+XNr9cxMwKgurOPVNFyg+yzG1hulTATMt99+q3wjeDUNV+h8l2ljY8NKHb0PGN3zdm0/dQdU6X4c0AbvA6ZQKCjfgGazabu6gBad1b02eB0wuqOXMAxtVxnQotPGbfA6YHS/HQy4KM3t2+tepRMuth6CAfMiYCzQ2dSYy6VjYxigS+d1tQ3eBozO3DSfz9uuLpBIp9MhYGzQ2TXN6AWuUv1om63tL94GTK1WU/rhf/zxR9tVBRLRmR7Z2vToZcDo/PAsrIOrdB4D2GrnXgbMaDRS+tFrtZrtqgKJqX7Xy+bpAF4GzOXlpdIPz8pduMqF6ZGIpwFzdHTEw114zYXpkYinAaP6w7M1AK5SnR7Z/q6XdwGjs8AOcJHO9Mj2KN27XqY6dDw6OrJdVSARV6ZHIh4GjOoCu8vLS9tVBRJxZXok4mHAqC6wG41GtqsKaHNpeiTiWcCwwA6+c2l6JOJZwLDADr5zaXok4lnAnJ2dKf34LLCDi1ybHol4FjCqO0vT8uMDOnSOZkjD9EjEs4BR/fFZYAcXqf4BTcv0SCSjAQO4xsXpkQgBAzhB59PHaZkeiRAwgBNU13fZPJphFq96GwEDH0VRpNy2u92u7er+i1e9jYCBj1qtlnLbjuPYdnX/xZvelvYv3AFJqb49SuP6Lm96W7FYJGDgHdXV6blcOvfXedPbVG8CAQOXqJ4OkLaHuxPe9DYCBr6J41i5TbdaLdvVncmb3qZ6I9Ka9MC0brer3K6jKLJd3ZkyFzBpWuUIPEb14W6aTwfIXMAALtDZGtDr9WxX90He9DgCBj5x7WCph3jT4wgY+MTVrQHTvOlxBAx84fLWgGne9DgCBr5Q/fRxLpe+rQHTvOlxBAx8oTo9SuPWgGne9DgCBj7Q2RoQBIHt6n6WNz2OgIEPVHdOp/3h7oQ3PY6AgQ9UF9eldWvANG96HAED1wVBoNyO07hzehZvehwBA9ep7pxO89aAad70OAIGLtPZOX15eWm7usq86XEEDFzmw87pWbzpcQQMXObDzulZvOlxBAxcpTM9cu24EW96HAEDV+ksrkvzzulZvOlxBAxc5dviuvu86XEEDFyluvfIlcV193nT4wgYuEjnaAaX3h5NeNPjfJ3Dwm+qJ9e5OD0S8ShgVlZWlG5UGIa2qwrcUV296+L0SMSjgNne3vbyNR/8pjryduFohlm8CZher6d0o9J8AjuyxefX0xPeBIzqXLZer9uuKiAi6kdjutxmvQmYMAy9flgG/9TrdaU269LmxmneBIzOh6oA23Taq8svJrzqbao3zMX1BPCLzuFSLnO79lM2NzeVbpgrp4HBX6qvp134csBjvAqY/f193iTBCarHM7i+rMKrgFF9VX14eGi7qsgwne0Brr6envAqYFTXFfAmCTap7p527XCpWbwKGJ2/DIAtvn2a5DHe9TTeJCHtVNuoDy8jvAuYSqWidPNc3dsB96kGTNo/bK/Cu4A5OTlRunlnZ2e2q4qMytI03o+ruMf38zXgPgLGYap7kny5gXBPltqnH1cxJUs3EO7JUvv04yqmZOkGwj1Zap9+XMUU1RvImyQsm84nYn3gx1VMUb2B5XLZdlWRMarLKAiYFNO5id1u13Z1kRE6Z8Bsbm7aru5CeBkwOsPQ9fV129VFRnQ6ncz94fMyYETU93vwLAbLks/nldpjPp+3XdWF8TZgdE4M29rasl1deE5nVN3pdGxXd2G8DRgRkbW1NUYxSAXV0xZzOffPgLnP64DR+avBKAam6BwjUqlUbFd3obwOGBGexcA+1QOmfHq4O+F9wOg8i2FdDBYtjmPlqbpPD3cnvA8YEZFarZbZvyCw6+PHj5lue5kIGJ1RDMc4YFHiOJZisajU7lZXV704YGpaJgJGRG8Uw3GaWATVr1zkcn6cvztLZgJGZxTj683G8uhsC/D5j1pmAkZEZHV1NdPDVSzP7u6ucrj4su9olkwFjM66mNevX9uuLhyl085yOfe/3viYTAVMHMfKo5hcLifv37+3XWU4JooiefLkiXIb8+Hjao/JVMCI6C16yuVy8u7dO9tVhiPiOJadnR2t9uXTtoBZMhcwOsu2J8XH9QlYvHq9rtWuer2e7Sobl7mAERHZ2NjQagiFQsH7vzSYj+rnciZlbW0tEy8SMhkwuo0hl8tJo9GwXW2kWKFQ0GpP19fXtqu8FJkMGBGRg4MD7ZDJwpAW+g4PD7Xa0eHhoe0qL01mA0ZE/TOz90sYhrarjRTRbUPb29uZmBpNZDpgRPQbyFdffZWpBoLZ4jiWH374QftZnq8rdh+S+YAREXn+/Ln2XyFk13g81n4dncvl5I8//rBd9aUjYOTvv0ZffvmlVmPZ39+3XW1YMBqNpFwua4dLoVCwXXUrCJh/hGGo3Wh4s5QtOrujp4vP2wEeQ8Dck6QBsZ3Af3Ecy/HxceJwOTg4sH0J1hAwU3RXY+ZyOWm327arDUOiKJKtra3E4XJycmL7EqwiYKaMx2PlD2QxkvGb7q7o6fL27Vvbl2AdATND0obFMxk/xHEs+/v7c4XLmzdvbF9GKhAwD3j37l2ihvXy5UvbVcccoiiS7777LnGw5PN5NsfeQ8A8Ym9vL1Ej++abb9gc6Zg4juXPP//U3lN0v9RqtcwtpPscAuYzGo1G4gbX7/dZ9ZtyURRJu92W9fX1uaZEzWaTez0DAaMgyZ6lSVlfX8/MzlmXdLtdefr06VyhMilsgn0YAaNI9yS86fLq1Sv+wqVAEASJVuLOKqVSic2vn0HAaJhnJHO/lMtlubq6sn05mRIEwVzrWabL9vY2z9kUEDCa5nkmMytohsOh7Uvy1ng8louLC+WvK6qWLJ3nMi8CJoGkb5ceKsViUdrtttze3tq+NOdNQmVR06D7pVAo8ApaEwGTUNJ1Mirl+PhY+v0+gaNgPB7Lp0+f5Pz83Eio3J8S8QpaHwEzh+vra63vLCUt1WpVLi4umPPL37veb25u5PT0dKHPVB4r9XqdB/QJETBziuN4rm38uqVYLEqj0bgb5fT7fRkOh3J7e+vViCeKIvn06ZP0+315/fq1lEqlpf3Gk7K5uZnZYxYWhYBZkPF4rPU94mWMen777TcnQieKIhkOh3J+fi7VatXq77a6uiqtVovp0IIQMAt2dXWVaDe2jVIoFO5GQ6enp3cjopubm7sR0TwdLYqiu39n8m//9ddfcnx8LI1GY+7Vs4sOlm63y1RowQgYA+I4TtVohvJwqdVqEgSB7SbjLQLGoMFgIJVKxXonovy3lEolgmUJCJglCoJAnj17Zr1zZbmUSiXWsiwRAWNBt9tlZLPkUOl0Orzmt4CAsSwMQ+n1enJ0dGS9I/pUKpUKoZICBEzKhGEorVbLyroPV0utVpNmsymDwYDdzSlDwKTYeDyWDx8+MJ2aKpVKRc7OzmQ0GjFCSTkCxjFhGEoYhhIEgfR6vbvpVb1el7W1Neudf5Flc3NTDg8PpdfryWg0YvGbgwgYD7k4zapUKvLLL79IEAQEiUcImAyLouhuRDQYDO5GRM1m825UNM+q5NXVVanX63J0dCSXl5d3//7k/yRI/EfAADCGgAFgDAEDwBgCBoAxBAwAYwgYAMYQMACMIWAAGEPAADCGgAFgDAEDwBgCBoAxBAwAYwgYAMYQMACMIWAAGEPAADCGgAFgDAEDwBgCBoAxBAwAYwgYAMYQMACMIWAAGEPAADCGgAFgDAEDwBgCBoAxBAwAYwgYAMYQMACMIWAAGEPAADCGgAFgDAEDwBgCBoAxBAwAYwgYAMYQMACMIWAAGEPAADCGgAFgDAEDwBgCBoAxBAwAYwgYAMYQMACMIWAAGEPAADCGgAFgzP8BLj9Rzk3aW2cAAAAASUVORK5CYII=\"\n",
    "image_b64 = dataurl.split(\",\")[1]\n",
    "binary = base64.b64decode(image_b64)\n",
    "image = np.asarray(bytearray(binary), dtype=\"uint8\")\n",
    "image = cv2.imdecode(image, cv2.IMREAD_GRAYSCALE)"
   ]
  },
  {
   "cell_type": "code",
   "execution_count": 243,
   "metadata": {},
   "outputs": [],
   "source": [
    "image = 255-image"
   ]
  },
  {
   "cell_type": "code",
   "execution_count": 296,
   "metadata": {},
   "outputs": [],
   "source": [
    "imageio.imsave('wow.jpg', image)"
   ]
  },
  {
   "cell_type": "code",
   "execution_count": 332,
   "metadata": {},
   "outputs": [
    {
     "data": {
      "text/plain": [
       "(1, 28, 28, 1)"
      ]
     },
     "execution_count": 332,
     "metadata": {},
     "output_type": "execute_result"
    }
   ],
   "source": [
    "res.shape"
   ]
  },
  {
   "cell_type": "code",
   "execution_count": 336,
   "metadata": {},
   "outputs": [
    {
     "data": {
      "text/plain": [
       "array([1])"
      ]
     },
     "execution_count": 336,
     "metadata": {},
     "output_type": "execute_result"
    }
   ],
   "source": [
    "model.predict_classes(res)"
   ]
  },
  {
   "cell_type": "markdown",
   "metadata": {},
   "source": [
    "---"
   ]
  },
  {
   "cell_type": "code",
   "execution_count": 2,
   "metadata": {},
   "outputs": [],
   "source": [
    "import tensorflow as tf\n",
    "#Load Dataset\n",
    "(x_train, y_train), (x_test, y_test) = tf.keras.datasets.mnist.load_data()"
   ]
  },
  {
   "cell_type": "code",
   "execution_count": 5,
   "metadata": {},
   "outputs": [],
   "source": [
    "x_test = x_test.reshape(x_test.shape[0], 28, 28,1)"
   ]
  },
  {
   "cell_type": "code",
   "execution_count": 3,
   "metadata": {},
   "outputs": [],
   "source": [
    "import matplotlib.pyplot as plt"
   ]
  },
  {
   "cell_type": "code",
   "execution_count": 7,
   "metadata": {},
   "outputs": [
    {
     "data": {
      "image/png": "[encoded data removed]",
      "text/plain": [
       "<Figure size 432x288 with 1 Axes>"
      ]
     },
     "metadata": {
      "needs_background": "light"
     },
     "output_type": "display_data"
    }
   ],
   "source": [
    "plt.figure()\n",
    "plt.imshow(x_test[0][:,:,0])\n",
    "plt.show()\n"
   ]
  },
  {
   "cell_type": "code",
   "execution_count": 24,
   "metadata": {},
   "outputs": [
    {
     "data": {
      "text/plain": [
       "(28, 28)"
      ]
     },
     "execution_count": 24,
     "metadata": {},
     "output_type": "execute_result"
    }
   ],
   "source": [
    "x_train[0].shape"
   ]
  },
  {
   "cell_type": "code",
   "execution_count": 8,
   "metadata": {},
   "outputs": [],
   "source": [
    "import matplotlib.image\n",
    "img = matplotlib.image.imread('http://icons.iconarchive.com/icons/icons8/windows-8/512/Numbers-3-Black-icon.png')"
   ]
  },
  {
   "cell_type": "code",
   "execution_count": 29,
   "metadata": {},
   "outputs": [
    {
     "ename": "OSError",
     "evalue": "cannot write mode LA as JPEG",
     "output_type": "error",
     "traceback": [
      "\u001b[0;31m---------------------------------------------------------------------------\u001b[0m",
      "\u001b[0;31mKeyError\u001b[0m                                  Traceback (most recent call last)",
      "\u001b[0;32m~/anaconda3/lib/python3.7/site-packages/PIL/JpegImagePlugin.py\u001b[0m in \u001b[0;36m_save\u001b[0;34m(im, fp, filename)\u001b[0m\n\u001b[1;32m    618\u001b[0m     \u001b[0;32mtry\u001b[0m\u001b[0;34m:\u001b[0m\u001b[0;34m\u001b[0m\u001b[0;34m\u001b[0m\u001b[0m\n\u001b[0;32m--> 619\u001b[0;31m         \u001b[0mrawmode\u001b[0m \u001b[0;34m=\u001b[0m \u001b[0mRAWMODE\u001b[0m\u001b[0;34m[\u001b[0m\u001b[0mim\u001b[0m\u001b[0;34m.\u001b[0m\u001b[0mmode\u001b[0m\u001b[0;34m]\u001b[0m\u001b[0;34m\u001b[0m\u001b[0;34m\u001b[0m\u001b[0m\n\u001b[0m\u001b[1;32m    620\u001b[0m     \u001b[0;32mexcept\u001b[0m \u001b[0mKeyError\u001b[0m\u001b[0;34m:\u001b[0m\u001b[0;34m\u001b[0m\u001b[0;34m\u001b[0m\u001b[0m\n",
      "\u001b[0;31mKeyError\u001b[0m: 'LA'",
      "\nDuring handling of the above exception, another exception occurred:\n",
      "\u001b[0;31mOSError\u001b[0m                                   Traceback (most recent call last)",
      "\u001b[0;32m<ipython-input-29-49887275a7de>\u001b[0m in \u001b[0;36m<module>\u001b[0;34m\u001b[0m\n\u001b[1;32m      1\u001b[0m \u001b[0;32mfrom\u001b[0m \u001b[0mPIL\u001b[0m \u001b[0;32mimport\u001b[0m \u001b[0mImage\u001b[0m\u001b[0;34m\u001b[0m\u001b[0;34m\u001b[0m\u001b[0m\n\u001b[1;32m      2\u001b[0m \u001b[0mimg_5\u001b[0m \u001b[0;34m=\u001b[0m \u001b[0mImage\u001b[0m\u001b[0;34m.\u001b[0m\u001b[0mopen\u001b[0m\u001b[0;34m(\u001b[0m\u001b[0;34m'5.jpg'\u001b[0m\u001b[0;34m)\u001b[0m\u001b[0;34m.\u001b[0m\u001b[0mconvert\u001b[0m\u001b[0;34m(\u001b[0m\u001b[0;34m'LA'\u001b[0m\u001b[0;34m)\u001b[0m\u001b[0;34m\u001b[0m\u001b[0;34m\u001b[0m\u001b[0m\n\u001b[0;32m----> 3\u001b[0;31m \u001b[0mimg_5\u001b[0m\u001b[0;34m.\u001b[0m\u001b[0msave\u001b[0m\u001b[0;34m(\u001b[0m\u001b[0;34m\"w.jpg\"\u001b[0m\u001b[0;34m)\u001b[0m\u001b[0;34m\u001b[0m\u001b[0;34m\u001b[0m\u001b[0m\n\u001b[0m",
      "\u001b[0;32m~/anaconda3/lib/python3.7/site-packages/PIL/Image.py\u001b[0m in \u001b[0;36msave\u001b[0;34m(self, fp, format, **params)\u001b[0m\n\u001b[1;32m   2082\u001b[0m \u001b[0;34m\u001b[0m\u001b[0m\n\u001b[1;32m   2083\u001b[0m         \u001b[0;32mtry\u001b[0m\u001b[0;34m:\u001b[0m\u001b[0;34m\u001b[0m\u001b[0;34m\u001b[0m\u001b[0m\n\u001b[0;32m-> 2084\u001b[0;31m             \u001b[0msave_handler\u001b[0m\u001b[0;34m(\u001b[0m\u001b[0mself\u001b[0m\u001b[0;34m,\u001b[0m \u001b[0mfp\u001b[0m\u001b[0;34m,\u001b[0m \u001b[0mfilename\u001b[0m\u001b[0;34m)\u001b[0m\u001b[0;34m\u001b[0m\u001b[0;34m\u001b[0m\u001b[0m\n\u001b[0m\u001b[1;32m   2085\u001b[0m         \u001b[0;32mfinally\u001b[0m\u001b[0;34m:\u001b[0m\u001b[0;34m\u001b[0m\u001b[0;34m\u001b[0m\u001b[0m\n\u001b[1;32m   2086\u001b[0m             \u001b[0;31m# do what we can to clean up\u001b[0m\u001b[0;34m\u001b[0m\u001b[0;34m\u001b[0m\u001b[0;34m\u001b[0m\u001b[0m\n",
      "\u001b[0;32m~/anaconda3/lib/python3.7/site-packages/PIL/JpegImagePlugin.py\u001b[0m in \u001b[0;36m_save\u001b[0;34m(im, fp, filename)\u001b[0m\n\u001b[1;32m    619\u001b[0m         \u001b[0mrawmode\u001b[0m \u001b[0;34m=\u001b[0m \u001b[0mRAWMODE\u001b[0m\u001b[0;34m[\u001b[0m\u001b[0mim\u001b[0m\u001b[0;34m.\u001b[0m\u001b[0mmode\u001b[0m\u001b[0;34m]\u001b[0m\u001b[0;34m\u001b[0m\u001b[0;34m\u001b[0m\u001b[0m\n\u001b[1;32m    620\u001b[0m     \u001b[0;32mexcept\u001b[0m \u001b[0mKeyError\u001b[0m\u001b[0;34m:\u001b[0m\u001b[0;34m\u001b[0m\u001b[0;34m\u001b[0m\u001b[0m\n\u001b[0;32m--> 621\u001b[0;31m         \u001b[0;32mraise\u001b[0m \u001b[0mIOError\u001b[0m\u001b[0;34m(\u001b[0m\u001b[0;34m\"cannot write mode %s as JPEG\"\u001b[0m \u001b[0;34m%\u001b[0m \u001b[0mim\u001b[0m\u001b[0;34m.\u001b[0m\u001b[0mmode\u001b[0m\u001b[0;34m)\u001b[0m\u001b[0;34m\u001b[0m\u001b[0;34m\u001b[0m\u001b[0m\n\u001b[0m\u001b[1;32m    622\u001b[0m \u001b[0;34m\u001b[0m\u001b[0m\n\u001b[1;32m    623\u001b[0m     \u001b[0minfo\u001b[0m \u001b[0;34m=\u001b[0m \u001b[0mim\u001b[0m\u001b[0;34m.\u001b[0m\u001b[0mencoderinfo\u001b[0m\u001b[0;34m\u001b[0m\u001b[0;34m\u001b[0m\u001b[0m\n",
      "\u001b[0;31mOSError\u001b[0m: cannot write mode LA as JPEG"
     ]
    }
   ],
   "source": [
    "from PIL import Image\n",
    "img_5 = Image.open('5.jpg').convert()\n",
    "img_5.save(\"w.jpg\")"
   ]
  },
  {
   "cell_type": "code",
   "execution_count": 28,
   "metadata": {},
   "outputs": [
    {
     "ename": "AttributeError",
     "evalue": "'Image' object has no attribute 'shape'",
     "output_type": "error",
     "traceback": [
      "\u001b[0;31m---------------------------------------------------------------------------\u001b[0m",
      "\u001b[0;31mAttributeError\u001b[0m                            Traceback (most recent call last)",
      "\u001b[0;32m<ipython-input-28-7803c659f4ba>\u001b[0m in \u001b[0;36m<module>\u001b[0;34m\u001b[0m\n\u001b[1;32m      1\u001b[0m \u001b[0;31m# img_5.reshape(img_5.shape[0], 28,28,1)\u001b[0m\u001b[0;34m\u001b[0m\u001b[0;34m\u001b[0m\u001b[0;34m\u001b[0m\u001b[0m\n\u001b[0;32m----> 2\u001b[0;31m \u001b[0mimg_5\u001b[0m\u001b[0;34m.\u001b[0m\u001b[0mshape\u001b[0m\u001b[0;34m\u001b[0m\u001b[0;34m\u001b[0m\u001b[0m\n\u001b[0m",
      "\u001b[0;31mAttributeError\u001b[0m: 'Image' object has no attribute 'shape'"
     ]
    }
   ],
   "source": [
    "# img_5.reshape(img_5.shape[0], 28,28,1)\n",
    "img_5."
   ]
  },
  {
   "cell_type": "code",
   "execution_count": 21,
   "metadata": {},
   "outputs": [
    {
     "data": {
      "image/png": "[encoded data removed]",
      "text/plain": [
       "<Figure size 432x288 with 1 Axes>"
      ]
     },
     "metadata": {
      "needs_background": "light"
     },
     "output_type": "display_data"
    }
   ],
   "source": [
    "plt.imshow(img_5)\n",
    "plt.show()"
   ]
  }
 ],
 "metadata": {
  "kernelspec": {
   "display_name": "Python 3",
   "language": "python",
   "name": "python3"
  },
  "language_info": {
   "codemirror_mode": {
    "name": "ipython",
    "version": 3
   },
   "file_extension": ".py",
   "mimetype": "text/x-python",
   "name": "python",
   "nbconvert_exporter": "python",
   "pygments_lexer": "ipython3",
   "version": "3.7.4"
  }
 },
 "nbformat": 4,
 "nbformat_minor": 4
}
